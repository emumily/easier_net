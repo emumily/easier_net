{
 "cells": [
  {
   "cell_type": "markdown",
   "id": "437c42b2",
   "metadata": {},
   "source": [
    "# Introduction\n",
    "\n",
    "This tutorial will cover how to run an EASIER-net model for regression."
   ]
  },
  {
   "cell_type": "markdown",
   "id": "7e56c9ee",
   "metadata": {},
   "source": [
    "### Installing EASIER-net with <mark>pip</mark>\n",
    "**First, create and activate a [virtual environment](https://packaging.python.org/en/latest/tutorials/installing-packages/#creating-and-using-virtual-environments)**<br>\n",
    "***Then run*** <br>\n",
    "```\n",
    "python3 -m pip install EASIER-net\n",
    "python3 -m pip install -r requirements.txt\n",
    "```"
   ]
  },
  {
   "cell_type": "markdown",
   "id": "ba04a426",
   "metadata": {},
   "source": [
    "### Installing from <mark>source</mark>\n",
    "***First run*** <br>\n",
    "```\n",
    "git clone https://github.com/jjfeng/easier_net.git\n",
    "cd easier_net #where pyproject.toml, setup.py files etc. are located\n",
    "```\n",
    "**Create and activate a [virtual environment](https://packaging.python.org/en/latest/tutorials/installing-packages/#creating-and-using-virtual-environments)** <br>\n",
    "***Then run*** <br>\n",
    "```\n",
    "python3 -m pip install -r requirements.txt\n",
    "```"
   ]
  },
  {
   "cell_type": "markdown",
   "id": "d0003d6f",
   "metadata": {},
   "source": [
    "### Generate Data\n",
    "**Make `_output` directory**\n",
    "\n",
    "```\n",
    "mkdir _output\n",
    "cd _output\n",
    "touch log_data.txt\n",
    "touch data.npz\n",
    "```\n",
    "**Generate data (we will call the file (\"data.npz\") later)**\n",
    "***Make sure to stay in this easier_net folder!\n",
    "```\n",
    "python3 easier_net/generate_data.py\n",
    "\t#variable name: x  type: float64  shape:(500, 4)\n",
    "\t#variable name: y  type: float64  shape:(500, 1)\n",
    "\t#variable name: true_y  type: float64  shape:(500, 1)\n",
    "python3\n",
    "```"
   ]
  },
  {
   "cell_type": "markdown",
   "id": "09150c0d",
   "metadata": {},
   "source": [
    "### Now in Python in virtual environment\n",
    "\n",
    "First, import the package\n",
    "```python\n",
    ">>> from easier_net import * \n",
    ">>> from sklearn.model_selection import train_test_split\n",
    "```\n",
    "If existing EASIER-net model exists, put the model (<mark>.pt</mark> file) in the argument `model_fit_params_file` when calling the object.\n",
    "\n",
    "Let's first call the Easier Net Estimator and load the data:\n",
    "```python\n",
    ">>> clf = easier_net.EasierNetEstimator(n_estimators=5, input_filter_layer=True, n_layers=5, n_hidden=2, full_tree_pen=1, input_pen=1, batch_size=3, num_classes=0, weight=[], max_iters=40, max_prox_iters=50) #, model_fit_params_file = \"easier_network.pt\"\n",
    ">>> data = np.load('~/DIR/_output/data.npz')\n",
    "```\n",
    "To look at keys and shape of the data:\n",
    "```python\n",
    ">>> for key in data.keys():\n",
    "        print(\"variable name:\", key          , end=\"  \")\n",
    "        print(\"type: \"+ str(data[key].dtype) , end=\"  \")\n",
    "        print(\"shape:\"+ str(data[key].shape))\n",
    ">>> x = data['x']\n",
    ">>> y = data['true_y']\n",
    "```\n",
    "\n",
    "Train test split the loaded data using sklearn's function:\n",
    "```python\n",
    ">>> X_train, X_test, y_train, y_test = train_test_split(\n",
    "        x, y, test_size=0.3, random_state=0)\n",
    "```\n",
    "\n",
    "Fit model to training data, predict using X_test:\n",
    "```python\n",
    ">>> clf.fit(X_train, y_train) #fit model to training data\n",
    ">>> clf.score(X_test, y_test) #scoring (MSE loss for regression)\n",
    ">>> clf.predict(X_test) #predict_proba function is for classification\n",
    "\n",
    ">>> clf.get_params() #get hyperparameters of model\n",
    "\n",
    ">>> clf.write_model(\"easier_network.pt\") #save model to file\n",
    "```"
   ]
  }
 ],
 "metadata": {
  "kernelspec": {
   "display_name": "Python 3 (ipykernel)",
   "language": "python",
   "name": "python3"
  },
  "language_info": {
   "codemirror_mode": {
    "name": "ipython",
    "version": 3
   },
   "file_extension": ".py",
   "mimetype": "text/x-python",
   "name": "python",
   "nbconvert_exporter": "python",
   "pygments_lexer": "ipython3",
   "version": "3.9.11"
  }
 },
 "nbformat": 4,
 "nbformat_minor": 5
}

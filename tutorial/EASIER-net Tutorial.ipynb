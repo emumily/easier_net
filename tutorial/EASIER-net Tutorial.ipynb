{
 "cells": [
  {
   "cell_type": "markdown",
   "id": "d6edf4d7",
   "metadata": {},
   "source": [
    "This tutorial will cover how to run an EASIER-net model for regression."
   ]
  },
  {
   "cell_type": "code",
   "execution_count": 1,
   "id": "4afd0dc0",
   "metadata": {},
   "outputs": [],
   "source": [
    "import numpy as np\n",
    "from easier_net import EasierNetEstimator"
   ]
  },
  {
   "cell_type": "code",
   "execution_count": 14,
   "id": "27c29b26",
   "metadata": {},
   "outputs": [],
   "source": [
    "# Make some fake data\n",
    "def make_data(n):\n",
    "    x = np.random.rand(n,20)\n",
    "    beta = np.ones(20).reshape((-1,1))\n",
    "    eps = np.random.randn(n) * 0.1\n",
    "    y = x @ beta + eps\n",
    "    return x,y\n",
    "\n",
    "np.random.seed(0)\n",
    "train_x, train_y = make_data(1000)\n",
    "test_x, test_y = make_data(1000)"
   ]
  },
  {
   "cell_type": "code",
   "execution_count": null,
   "id": "fcf1024f",
   "metadata": {},
   "outputs": [
    {
     "name": "stdout",
     "output_type": "stream",
     "text": [
      "[0] loss: 119.01409912109375 empirical: 101.91303253173828\n",
      "[100] loss: 6.068580627441406 empirical: 0.27225983142852783\n",
      "[200] loss: 3.800727367401123 empirical: 0.30218473076820374\n",
      "[300] loss: 2.461613416671753 empirical: 0.11365368962287903\n",
      "[400] loss: 1.6842410564422607 empirical: 0.03239505738019943\n",
      "[500] loss: 1.523341417312622 empirical: 0.02397727221250534\n",
      "[600] loss: 1.4178258180618286 empirical: 0.01796560361981392\n",
      "[700] loss: 1.4109796285629272 empirical: 0.01685483567416668\n",
      "[prox 0] loss: 1.3856611251831055 empirical: 0.018841711804270744\n",
      "[0] loss: 113.72989654541016 empirical: 96.18897247314453\n",
      "[100] loss: 6.08759880065918 empirical: 0.2882601320743561\n",
      "[200] loss: 3.612445831298828 empirical: 0.23977023363113403\n",
      "[300] loss: 2.265087604522705 empirical: 0.1563885509967804\n",
      "[400] loss: 1.6523933410644531 empirical: 0.05769084393978119\n",
      "[500] loss: 1.4377868175506592 empirical: 0.031179213896393776\n"
     ]
    }
   ],
   "source": [
    "# Train an easier net\n",
    "e_net = EasierNetEstimator(\n",
    "    n_estimators=2,\n",
    "    input_filter_layer=True,\n",
    "    n_layers=3,\n",
    "    n_hidden=20,\n",
    "    full_tree_pen=0.1,\n",
    "    input_pen=0.01,\n",
    "    batch_size=100,\n",
    "    num_classes=0,\n",
    "    weight=[],\n",
    "    max_iters=800,\n",
    "    max_prox_iters=20)\n",
    "\n",
    "e_net.fit(train_x, train_y)"
   ]
  },
  {
   "cell_type": "code",
   "execution_count": null,
   "id": "ce97b287",
   "metadata": {},
   "outputs": [],
   "source": [
    "# Evaluate on the test data\n",
    "predictions = e_net.predict(test_x)\n",
    "mse = np.mean(np.power(predictions - test_y, 2))\n",
    "print(mse)"
   ]
  }
 ],
 "metadata": {
  "kernelspec": {
   "display_name": "Python 3 (ipykernel)",
   "language": "python",
   "name": "python3"
  },
  "language_info": {
   "codemirror_mode": {
    "name": "ipython",
    "version": 3
   },
   "file_extension": ".py",
   "mimetype": "text/x-python",
   "name": "python",
   "nbconvert_exporter": "python",
   "pygments_lexer": "ipython3",
   "version": "3.9.7"
  }
 },
 "nbformat": 4,
 "nbformat_minor": 5
}
